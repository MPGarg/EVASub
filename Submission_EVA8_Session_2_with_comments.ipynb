{
  "nbformat": 4,
  "nbformat_minor": 0,
  "metadata": {
    "colab": {
      "provenance": [],
      "include_colab_link": true
    },
    "kernelspec": {
      "name": "python3",
      "display_name": "Python 3"
    },
    "accelerator": "GPU"
  },
  "cells": [
    {
      "cell_type": "markdown",
      "metadata": {
        "id": "view-in-github",
        "colab_type": "text"
      },
      "source": [
        "<a href=\"https://colab.research.google.com/github/MPGarg/EVASub/blob/Session-2/Submission_EVA8_Session_2_with_comments.ipynb\" target=\"_parent\"><img src=\"https://colab.research.google.com/assets/colab-badge.svg\" alt=\"Open In Colab\"/></a>"
      ]
    },
    {
      "cell_type": "code",
      "metadata": {
        "id": "0m2JWFliFfKT"
      },
      "source": [
        "from __future__ import print_function #compatibility in Python versions 3.x and 2.x\n",
        "import torch                          #provides a flexible N-dimensional array or Tensor, which supports basic routines for indexing, slicing, transposing\n",
        "import torch.nn as nn                 #various neural network layer like regular fully-connected layers, convolutional layers, max pool etc\n",
        "import torch.nn.functional as F       #provides various activation functions like Relu\n",
        "import torch.optim as optim           #package implementing various optimization algorithms\n",
        "from torchvision import datasets, transforms  #datasets for in-built databases and transforms for common image transformations like rotation, flip, crop etc"
      ],
      "execution_count": null,
      "outputs": []
    },
    {
      "cell_type": "code",
      "metadata": {
        "id": "h_Cx9q2QFgM7"
      },
      "source": [
        "class Net(nn.Module):                                     #class Net\n",
        "    def __init__(self):                                   #constructor\n",
        "        super(Net, self).__init__()                       #super class constructor\n",
        "        #torch.nn.Conv2d(in_channels, out_channels, kernel_size, stride=1, padding=0, dilation=1, groups=1, bias=True, padding_mode='zeros')\n",
        "        self.conv1 = nn.Conv2d(1, 32, 3, padding=1)       #input=(28x28x1) OUtput=(28x28x32)  RF=(3x3)\n",
        "        self.conv2 = nn.Conv2d(32, 64, 3, padding=1)      #input=(28x28x32) OUtput=(28x28x64)  RF=(5x5)\n",
        "        #torch.nn.MaxPool2d(kernel_size, stride=None, padding=0, dilation=1, return_indices=False, ceil_mode=False)\n",
        "                                                          #assume MaxPooling doubles the RF for now\n",
        "        self.pool1 = nn.MaxPool2d(2, 2)                   #input=(28x28x64) OUtput=(14x14x64)  RF=(10x10)       #==>after reading more on RF it \n",
        "                                                                                                                #==>looks like RF will be (6x6)\n",
        "        self.conv3 = nn.Conv2d(64, 128, 3, padding=1)     #input=(14x14x64) OUtput=(14x14x128)  RF=(12x12)      #==>then RF will change to (10x10)\n",
        "        self.conv4 = nn.Conv2d(128, 256, 3, padding=1)    #input=(14x14x128) OUtput=(14x14x256)  RF=(14x14)     #==>then to (14x14)\n",
        "                                                          #assume MaxPooling doubles the RF for now\n",
        "        self.pool2 = nn.MaxPool2d(2, 2)                   #input=(14x14x256) OUtput=(7x7x256)  RF=(28x28)       #==>then to (16x16) via pooling\n",
        "        self.conv5 = nn.Conv2d(256, 512, 3)  #padding 0   #input=(7x7x256) OUtput=(5x5x512)  RF=(30x30)         #==>then to (24x24)\n",
        "        self.conv6 = nn.Conv2d(512, 1024, 3) #padding 0   #input=(5x5x512) OUtput=(3x3x1024)  RF=(32x32)        #==>then to (32x32)\n",
        "        self.conv7 = nn.Conv2d(1024, 10, 3)  #padding 0   #input=(3x3x1024) OUtput=(1x1x10)  RF=(34x34)         #==>then to (40x40)\n",
        "\n",
        "    def forward(self, x):                                         #it's the forward function that defines the network structure\n",
        "        x = self.pool1(F.relu(self.conv2(F.relu(self.conv1(x))))) #relu activation on conv1 with x as input \n",
        "                                                                  #-> passing output of this as input to conv2 with relu as activation \n",
        "                                                                  #-> applying max pooling to output of previous layer and storing back in x\n",
        "        x = self.pool2(F.relu(self.conv4(F.relu(self.conv3(x))))) # passing x to conv3 with relu activation\n",
        "                                                                  #-> passing output to conv4 with relu activation\n",
        "                                                                  #-> applying max pooling to output of previous layer and storing back in x\n",
        "        x = F.relu(self.conv6(F.relu(self.conv5(x))))             #passing x to conv5 with relu activation\n",
        "                                                                  #-> passing output to conv6 with relu activation and storing back in x\n",
        "        x = F.relu(self.conv7(x))                                 #passing x as input to conv7 and storing data in x\n",
        "        x = x.view(-1, 10)                                        #reshaping it with 10 columns\n",
        "        return F.log_softmax(x)                                   #applying softmax as output function"
      ],
      "execution_count": null,
      "outputs": []
    },
    {
      "cell_type": "code",
      "metadata": {
        "id": "xdydjYTZFyi3",
        "colab": {
          "base_uri": "https://localhost:8080/"
        },
        "outputId": "3001e12a-4636-4474-b848-25c0aa58929b"
      },
      "source": [
        "!pip install torchsummary                                         #install torchsummary\n",
        "from torchsummary import summary                                  #import summary to show report\n",
        "use_cuda = torch.cuda.is_available()                              #check gpu availability \n",
        "device = torch.device(\"cuda\" if use_cuda else \"cpu\")              #use cuda is gpu available else cpu\n",
        "model = Net().to(device)                                          #set device for computation and create model object with Net class\n",
        "summary(model, input_size=(1, 28, 28))                            #print summary of mode with input as 28x28 grey scale image"
      ],
      "execution_count": null,
      "outputs": [
        {
          "output_type": "stream",
          "name": "stdout",
          "text": [
            "Looking in indexes: https://pypi.org/simple, https://us-python.pkg.dev/colab-wheels/public/simple/\n",
            "Requirement already satisfied: torchsummary in /usr/local/lib/python3.8/dist-packages (1.5.1)\n",
            "----------------------------------------------------------------\n",
            "        Layer (type)               Output Shape         Param #\n",
            "================================================================\n",
            "            Conv2d-1           [-1, 32, 28, 28]             320\n",
            "            Conv2d-2           [-1, 64, 28, 28]          18,496\n",
            "         MaxPool2d-3           [-1, 64, 14, 14]               0\n",
            "            Conv2d-4          [-1, 128, 14, 14]          73,856\n",
            "            Conv2d-5          [-1, 256, 14, 14]         295,168\n",
            "         MaxPool2d-6            [-1, 256, 7, 7]               0\n",
            "            Conv2d-7            [-1, 512, 5, 5]       1,180,160\n",
            "            Conv2d-8           [-1, 1024, 3, 3]       4,719,616\n",
            "            Conv2d-9             [-1, 10, 1, 1]          92,170\n",
            "================================================================\n",
            "Total params: 6,379,786\n",
            "Trainable params: 6,379,786\n",
            "Non-trainable params: 0\n",
            "----------------------------------------------------------------\n",
            "Input size (MB): 0.00\n",
            "Forward/backward pass size (MB): 1.51\n",
            "Params size (MB): 24.34\n",
            "Estimated Total Size (MB): 25.85\n",
            "----------------------------------------------------------------\n"
          ]
        },
        {
          "output_type": "stream",
          "name": "stderr",
          "text": [
            "<ipython-input-2-214581cd8df7>:30: UserWarning: Implicit dimension choice for log_softmax has been deprecated. Change the call to include dim=X as an argument.\n",
            "  return F.log_softmax(x)                                   #applying softmax as output function\n"
          ]
        }
      ]
    },
    {
      "cell_type": "code",
      "metadata": {
        "id": "DqTWLaM5GHgH"
      },
      "source": [
        "\n",
        "\n",
        "torch.manual_seed(2001)                      #Sets the seed for generating random numbers\n",
        "batch_size = 128                          #batch size of images to be processed\n",
        "\n",
        "kwargs = {'num_workers': 1, 'pin_memory': True} if use_cuda else {} #this is for optimizing speed if gpu in use\n",
        "train_loader = torch.utils.data.DataLoader(                         #MNIST images data loading for train dataset\n",
        "    datasets.MNIST('../data', train=True, download=True,\n",
        "                    transform=transforms.Compose([                  #clubbing of transformations\n",
        "                        transforms.ToTensor(),                      #Convert a Image to tensor\n",
        "                        transforms.Normalize((0.1307,), (0.3081,))  #mean and std deviation \n",
        "                    ])),\n",
        "    batch_size=batch_size, shuffle=True, **kwargs)                  #batch size with shuffle allowed\n",
        "test_loader = torch.utils.data.DataLoader(                          #this is for test dataset\n",
        "    datasets.MNIST('../data', train=False, transform=transforms.Compose([\n",
        "                        transforms.ToTensor(),\n",
        "                        transforms.Normalize((0.1307,), (0.3081,))\n",
        "                    ])),\n",
        "    batch_size=batch_size, shuffle=True, **kwargs)\n"
      ],
      "execution_count": null,
      "outputs": []
    },
    {
      "cell_type": "code",
      "metadata": {
        "id": "8fDefDhaFlwH"
      },
      "source": [
        "from tqdm import tqdm                                           #progress bar library                     \n",
        "def train(model, device, train_loader, optimizer, epoch):       #defining train function\n",
        "    model.train()                                               #training model\n",
        "    pbar = tqdm(train_loader)                                   #progress bas object for train data\n",
        "    for batch_idx, (data, target) in enumerate(pbar):           #get batch id with it's data & labels for training\n",
        "        data, target = data.to(device), target.to(device)       #set data for training\n",
        "        #For every mini-batch during the training phase, explicitly set the gradients to zero before starting to do backpropragation \n",
        "        #updating the Weights because PyTorch accumulates the gradients on subsequent backward passes\n",
        "        optimizer.zero_grad()\n",
        "        output = model(data)                                    #get output from trained model\n",
        "        loss = F.nll_loss(output, target)                       #calculate loss between tarrget & output\n",
        "        loss.backward()                                         #backward pass to adjust weights\n",
        "        #makes the optimizer iterate over all parameters (tensors) it is supposed to update and use their internally stored grad to update their values\n",
        "        optimizer.step()\n",
        "        pbar.set_description(desc= f'loss={loss.item()} batch_id={batch_idx}')  #description of bar\n",
        "\n",
        "\n",
        "def test(model, device, test_loader):                           #define test function\n",
        "    model.eval()                                                #evaluate model\n",
        "    test_loss = 0\n",
        "    correct = 0\n",
        "    #The wrapper with torch.no_grad() temporarily sets all of the requires_grad flags to false\n",
        "    #it deactivates autograd engine thus performing inference without Gradient Calculation\n",
        "    #To make sure there's no leak test data into the model\n",
        "    with torch.no_grad():\n",
        "        for data, target in test_loader:\n",
        "            data, target = data.to(device), target.to(device)\n",
        "            output = model(data)                                            #get prediction\n",
        "            test_loss += F.nll_loss(output, target, reduction='sum').item()  # sum up batch loss\n",
        "            pred = output.argmax(dim=1, keepdim=True)  # get the index of the max log-probability\n",
        "            correct += pred.eq(target.view_as(pred)).sum().item()           #correct prediction sum\n",
        "\n",
        "    test_loss /= len(test_loader.dataset)                                   #average loss\n",
        "\n",
        "    #print details\n",
        "    print('\\nTest set: Average loss: {:.4f}, Accuracy: {}/{} ({:.0f}%)\\n'.format(\n",
        "        test_loss, correct, len(test_loader.dataset),\n",
        "        100. * correct / len(test_loader.dataset)))"
      ],
      "execution_count": null,
      "outputs": []
    },
    {
      "cell_type": "code",
      "metadata": {
        "id": "MMWbLWO6FuHb",
        "colab": {
          "base_uri": "https://localhost:8080/"
        },
        "outputId": "5dcca680-cc07-40e0-9eab-196aefca3584"
      },
      "source": [
        "model = Net().to(device)                                                    #create model\n",
        "optimizer = optim.SGD(model.parameters(), lr=0.01, momentum=0.9)            #SGD optimizer with learning rate as 0.01 and momentum = 0.9\n",
        "\n",
        "for epoch in range(1, 2):                                                   #number of epochs or number of times model is trained\n",
        "    train(model, device, train_loader, optimizer, epoch)                    #training model with epoch times\n",
        "    test(model, device, test_loader)                                        #test model"
      ],
      "execution_count": null,
      "outputs": [
        {
          "output_type": "stream",
          "name": "stderr",
          "text": [
            "\r  0%|          | 0/469 [00:00<?, ?it/s]<ipython-input-2-214581cd8df7>:30: UserWarning: Implicit dimension choice for log_softmax has been deprecated. Change the call to include dim=X as an argument.\n",
            "  return F.log_softmax(x)                                   #applying softmax as output function\n",
            "loss=0.06878165900707245 batch_id=468: 100%|██████████| 469/469 [00:22<00:00, 20.77it/s]\n"
          ]
        },
        {
          "output_type": "stream",
          "name": "stdout",
          "text": [
            "\n",
            "Test set: Average loss: 0.0606, Accuracy: 9801/10000 (98%)\n",
            "\n"
          ]
        }
      ]
    },
    {
      "cell_type": "code",
      "metadata": {
        "id": "So5uk4EkHW6R"
      },
      "source": [],
      "execution_count": null,
      "outputs": []
    }
  ]
}